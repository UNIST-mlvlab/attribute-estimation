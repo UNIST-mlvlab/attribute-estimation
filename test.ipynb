{
 "cells": [
  {
   "cell_type": "code",
   "execution_count": 140,
   "metadata": {},
   "outputs": [],
   "source": [
    "import os\n",
    "\n",
    "from PIL import Image\n",
    "\n",
    "import numpy as np\n",
    "\n",
    "import torch\n",
    "from torch.utils.data import Dataset\n",
    "from torchvision import datasets\n",
    "import torchvision.transforms as T\n",
    "\n",
    "from scipy.io import loadmat\n",
    "from easydict import EasyDict"
   ]
  },
  {
   "cell_type": "code",
   "execution_count": 141,
   "metadata": {},
   "outputs": [],
   "source": [
    "data_root = '/home/ayp/datasets/PAR_datasets/RAPv1'\n",
    "annotation_dir = os.path.join(data_root, 'RAP_annotation')\n",
    "img_dir = os.path.join(data_root, 'RAP_dataset')\n",
    "annotation = loadmat(os.path.join(annotation_dir, 'RAP_annotation.mat'))\n",
    "annotation = annotation['RAP_annotation'][0,0] # np.array\n",
    "partition_index = 0\n",
    "\n",
    "height = 256 # Default 256\n",
    "width = 192 # Default 192\n",
    "normalize = T.Normalize(mean=[0.1385, 0.1377, 0.1319], std=[0.2432, 0.2357, 0.2331])\n",
    "train_transform = T.Compose([\n",
    "    T.Resize((height, width)),\n",
    "    #T.Pad(10),\n",
    "    #T.RandomCrop((height, width)),\n",
    "    T.RandomHorizontalFlip(),\n",
    "    T.ToTensor(),\n",
    "    normalize,\n",
    "])"
   ]
  },
  {
   "cell_type": "code",
   "execution_count": 142,
   "metadata": {},
   "outputs": [],
   "source": [
    "partition = annotation[0]\n",
    "label = annotation[1]           # (41585, 92)\n",
    "attribute_name = annotation[3]  # (92, 1)\n",
    "img_file = annotation[5]        # (41585, 1)\n",
    "train_partition = partition[partition_index,0][0,0][0][0] - 1 # (33268)\n",
    "test_partition = partition[partition_index,0][0,0][1][0] - 1 # (8317)\n",
    "train_label = label[train_partition]\n",
    "train_img = img_file[train_partition][:,0]"
   ]
  },
  {
   "cell_type": "code",
   "execution_count": 143,
   "metadata": {},
   "outputs": [
    {
     "name": "stdout",
     "output_type": "stream",
     "text": [
      "['CAM20_2014-02-22_20140222102126-20140222102714_tarid67_frame3658_line1.png', 'CAM15_2014-03-01_20140301102228-20140301102824_tarid247_frame3658_line1.png', 'CAM12_2014-03-05_20140305113134-20140305114442_tarid389_frame2063_line1.png']\n"
     ]
    }
   ],
   "source": [
    "sample = train_img[np.array([1,2,3])].tolist()\n",
    "sample = [item.item() for item in sample]\n",
    "print(sample)"
   ]
  },
  {
   "cell_type": "code",
   "execution_count": 152,
   "metadata": {},
   "outputs": [
    {
     "name": "stdout",
     "output_type": "stream",
     "text": [
      "torch.Size([3, 256, 192])\n",
      "torch.Size([3, 256, 192])\n",
      "torch.Size([3, 256, 192])\n"
     ]
    }
   ],
   "source": [
    "for img in sample:\n",
    "    img_file = os.path.join(img_dir, img)\n",
    "    image = Image.open(os.path.join(img_dir, img_file)).convert('RGB')\n",
    "    image = train_transform(image)\n",
    "    print(image.shape)\n",
    "    try:\n",
    "        images = torch.cat((images, image.unsqueeze(0)), dim=0)\n",
    "    except:\n",
    "        images = image.unsqueeze(0) "
   ]
  },
  {
   "cell_type": "code",
   "execution_count": 149,
   "metadata": {},
   "outputs": [
    {
     "name": "stdout",
     "output_type": "stream",
     "text": [
      "torch.Size([3, 256, 192])\n"
     ]
    }
   ],
   "source": [
    "print(images.shape)\n"
   ]
  },
  {
   "cell_type": "code",
   "execution_count": 146,
   "metadata": {},
   "outputs": [],
   "source": [
    "train_transform = T.Compose([\n",
    "        T.Resize((height, width)),\n",
    "        #T.Pad(10),\n",
    "        #T.RandomCrop((height, width)),\n",
    "        T.RandomHorizontalFlip(),\n",
    "        T.ToTensor(),\n",
    "        normalize,\n",
    "    ])"
   ]
  },
  {
   "cell_type": "code",
   "execution_count": null,
   "metadata": {},
   "outputs": [],
   "source": []
  }
 ],
 "metadata": {
  "kernelspec": {
   "display_name": "Python 3.9.15 ('keti-ar')",
   "language": "python",
   "name": "python3"
  },
  "language_info": {
   "codemirror_mode": {
    "name": "ipython",
    "version": 3
   },
   "file_extension": ".py",
   "mimetype": "text/x-python",
   "name": "python",
   "nbconvert_exporter": "python",
   "pygments_lexer": "ipython3",
   "version": "3.9.15"
  },
  "orig_nbformat": 4,
  "vscode": {
   "interpreter": {
    "hash": "8bc73ee26a998d1edfcdff89460345e3078b822f68e76a081cebf0857c9fc5b8"
   }
  }
 },
 "nbformat": 4,
 "nbformat_minor": 2
}
